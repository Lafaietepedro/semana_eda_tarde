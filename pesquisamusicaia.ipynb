{
 "cells": [
  {
   "cell_type": "markdown",
   "metadata": {},
   "source": [
    "### Grupo 1 - Eulete (Alisson)\n",
    "### Grupo 2 - Váleria (Mirka)\n",
    "### Grupo 3 - Jéssica (Charleson)\n",
    "### Grupo 4 - Juliana (Damarcones)\n",
    "\n",
    "- Baixar o novo dataset\n",
    "- Apagar a coluna de data e hora\n",
    "- Renomear as colunas\n",
    "- Criar um gráfico de barras horizontal de todos os estilos\n",
    "- Criar um gráfico de barras horizontal apenas do seu grupo\n",
    "- Escolher as palavras chaves\n",
    "- Gerar uma música com as palavras-chave"
   ]
  }
 ],
 "metadata": {
  "language_info": {
   "name": "python"
  }
 },
 "nbformat": 4,
 "nbformat_minor": 2
}
